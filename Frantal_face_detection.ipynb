{
 "cells": [
  {
   "cell_type": "markdown",
   "id": "7242f327",
   "metadata": {},
   "source": [
    "# 1st method in which detecting only frantal face with haar cascade classifier"
   ]
  },
  {
   "cell_type": "code",
   "execution_count": 2,
   "id": "fac4d5a7",
   "metadata": {},
   "outputs": [],
   "source": [
    "import cv2\n",
    "\n",
    "cap = cv2.VideoCapture(0)\n",
    "face_cascade = cv2.CascadeClassifier(cv2.data.haarcascades + \"haarcascade_frontalface_default.xml\")\n",
    "# eye_cascade = cv2.CascadeClassifier(cv2.data.haarcascades +'haarcascade_eye.xml') \n",
    "# side_cascade = cv2.CascadeClassifier(cv2.data.haarcascades + 'haarcascade_profileface.xml')\n",
    "\n",
    "while (cap.isOpened()):\n",
    "    ret, frame = cap.read()\n",
    "\n",
    "    if ret:\n",
    "        gray = cv2.cvtColor(frame, cv2.COLOR_BGR2GRAY)\n",
    "        faces = face_cascade.detectMultiScale(gray, 1.3, 5)\n",
    "        for (x, y, w, h) in faces:\n",
    "            cv2.rectangle(frame, (x, y), (x + w, y + h), (255, 0, 0), 3)\n",
    "#             roi_gray = gray[y:y+w, x:x+w]\n",
    "#             roi_color = frame[y:y+h, x:x+w]\n",
    "  \n",
    "#             # Detects eyes of different sizes in the input image\n",
    "#             eyes = eye_cascade.detectMultiScale(gray) \n",
    "            \n",
    "#             #To draw a rectangle in eyes\n",
    "#             for (ex,ey,ew,eh) in eyes:\n",
    "#                 cv2.rectangle(frame,(ex,ey),(ex+ew,ey+eh),(0,127,255),2)\n",
    "            \n",
    "#         side_face = side_cascade.detectMultiScale(gray)\n",
    "#         for (x, y, w, h) in faces:\n",
    "#             cv2.rectangle(frame, (x, y), (x + w, y + h), (255, 0, 0), 3)\n",
    "            \n",
    "        cv2.imshow('frame', frame)\n",
    "        if cv2.waitKey(1) & 0xFF == ord('k'):\n",
    "            break\n",
    "    else:\n",
    "        break\n",
    "\n",
    "cap.release()\n",
    "cv2.destroyAllWindows()"
   ]
  },
  {
   "cell_type": "code",
   "execution_count": null,
   "id": "98ea085f",
   "metadata": {},
   "outputs": [],
   "source": []
  },
  {
   "cell_type": "code",
   "execution_count": null,
   "id": "2caa8b7a",
   "metadata": {},
   "outputs": [],
   "source": []
  },
  {
   "cell_type": "code",
   "execution_count": null,
   "id": "a83d0d5c",
   "metadata": {},
   "outputs": [],
   "source": []
  },
  {
   "cell_type": "code",
   "execution_count": null,
   "id": "3011b076",
   "metadata": {},
   "outputs": [],
   "source": []
  }
 ],
 "metadata": {
  "kernelspec": {
   "display_name": "Python 3 (ipykernel)",
   "language": "python",
   "name": "python3"
  },
  "language_info": {
   "codemirror_mode": {
    "name": "ipython",
    "version": 3
   },
   "file_extension": ".py",
   "mimetype": "text/x-python",
   "name": "python",
   "nbconvert_exporter": "python",
   "pygments_lexer": "ipython3",
   "version": "3.9.13"
  }
 },
 "nbformat": 4,
 "nbformat_minor": 5
}
